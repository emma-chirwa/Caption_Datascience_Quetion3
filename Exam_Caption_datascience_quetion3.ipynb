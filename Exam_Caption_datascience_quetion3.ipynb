{
 "cells": [
  {
   "cell_type": "code",
   "execution_count": 86,
   "metadata": {},
   "outputs": [],
   "source": [
    "import requests\n",
    "import lxml.html as lh\n",
    "import pandas as pd\n",
    "from bs4 import BeautifulSoup"
   ]
  },
  {
   "cell_type": "code",
   "execution_count": 87,
   "metadata": {},
   "outputs": [],
   "source": [
    "Toronto_postal_code_link='https://en.wikipedia.org/wiki/List_of_postal_codes_of_Canada:_M'\n",
    "\n",
    "# request wikipage \n",
    "Toronto_raw_page = requests.get(Toronto_postal_code_link)\n",
    "bs=BeautifulSoup(Toronto_raw_page.text,\"lxml\")\n",
    "table_body=bs.find('tbody')\n",
    "\n",
    "# tabel part\n",
    "rows = table_body.find_all('tr')\n",
    "heads = table_body.find_all('th')"
   ]
  },
  {
   "cell_type": "code",
   "execution_count": 88,
   "metadata": {},
   "outputs": [],
   "source": [
    "heads=list(heads)"
   ]
  },
  {
   "cell_type": "code",
   "execution_count": 89,
   "metadata": {},
   "outputs": [
    {
     "data": {
      "text/plain": [
       "['Postcode', 'Borough', 'Neighbourhood']"
      ]
     },
     "execution_count": 89,
     "metadata": {},
     "output_type": "execute_result"
    }
   ],
   "source": [
    "def clean(text):\n",
    "    '''clean table header for column names'''\n",
    "    text=text.replace('<th>','').replace(\"</th>\",'').replace(\"\\n\",'')\n",
    "    return text\n",
    "\n",
    "col_name = [clean(str(w)) for w in heads]\n",
    "col_name"
   ]
  },
  {
   "cell_type": "code",
   "execution_count": 90,
   "metadata": {},
   "outputs": [],
   "source": [
    "df=pd.DataFrame(columns=col_name)\n",
    "for i,row in enumerate(rows[1:]):\n",
    "    cols=row.find_all('td')\n",
    "    cols=[x.text.strip() for x in cols]\n",
    "    df.loc[i] = cols"
   ]
  },
  {
   "cell_type": "code",
   "execution_count": 91,
   "metadata": {},
   "outputs": [
    {
     "data": {
      "text/plain": [
       "(287, 3)"
      ]
     },
     "execution_count": 91,
     "metadata": {},
     "output_type": "execute_result"
    }
   ],
   "source": [
    "df.shape"
   ]
  },
  {
   "cell_type": "code",
   "execution_count": 92,
   "metadata": {},
   "outputs": [],
   "source": [
    "#df.head(10)"
   ]
  },
  {
   "cell_type": "code",
   "execution_count": 93,
   "metadata": {},
   "outputs": [
    {
     "data": {
      "text/plain": [
       "['Central Toronto',\n",
       " 'Downtown Toronto',\n",
       " 'East Toronto',\n",
       " 'East York',\n",
       " 'Etobicoke',\n",
       " 'Mississauga',\n",
       " 'North York',\n",
       " 'Not assigned',\n",
       " 'Scarborough',\n",
       " 'West Toronto',\n",
       " 'York']"
      ]
     },
     "execution_count": 93,
     "metadata": {},
     "output_type": "execute_result"
    }
   ],
   "source": [
    "sorted(df['Borough'].unique())"
   ]
  },
  {
   "cell_type": "code",
   "execution_count": 94,
   "metadata": {},
   "outputs": [],
   "source": [
    "#df1=df[~df['Borough'].isin(['Not assigned',''])]"
   ]
  },
  {
   "cell_type": "code",
   "execution_count": 95,
   "metadata": {},
   "outputs": [],
   "source": [
    "#df1.shape"
   ]
  },
  {
   "cell_type": "code",
   "execution_count": 96,
   "metadata": {},
   "outputs": [],
   "source": [
    "#df1.head(10)"
   ]
  },
  {
   "cell_type": "code",
   "execution_count": 97,
   "metadata": {},
   "outputs": [],
   "source": [
    "#df2=df1.groupby(['Postcode','Borough'])['Neighbourhood'].agg(lambda x: ','.join(x)).reset_index()"
   ]
  },
  {
   "cell_type": "code",
   "execution_count": 98,
   "metadata": {},
   "outputs": [],
   "source": [
    "#df2.loc[df2['Neighbourhood']=='Not assigned',['Neighbourhood']]=df2['Borough']"
   ]
  },
  {
   "cell_type": "code",
   "execution_count": 99,
   "metadata": {},
   "outputs": [],
   "source": [
    "#df2.shape"
   ]
  },
  {
   "cell_type": "markdown",
   "metadata": {},
   "source": [
    "Part2. Get the latitude and the longitude coordinates of each neighborhood\n",
    "link to a csv file that has the geographical coordinates of each postal code: http://cocl.us/Geospatial_data"
   ]
  },
  {
   "cell_type": "code",
   "execution_count": 100,
   "metadata": {},
   "outputs": [],
   "source": [
    "csv_zip = pd.read_csv('http://cocl.us/Geospatial_data')"
   ]
  },
  {
   "cell_type": "code",
   "execution_count": 101,
   "metadata": {},
   "outputs": [
    {
     "data": {
      "text/html": [
       "<div>\n",
       "<style scoped>\n",
       "    .dataframe tbody tr th:only-of-type {\n",
       "        vertical-align: middle;\n",
       "    }\n",
       "\n",
       "    .dataframe tbody tr th {\n",
       "        vertical-align: top;\n",
       "    }\n",
       "\n",
       "    .dataframe thead th {\n",
       "        text-align: right;\n",
       "    }\n",
       "</style>\n",
       "<table border=\"1\" class=\"dataframe\">\n",
       "  <thead>\n",
       "    <tr style=\"text-align: right;\">\n",
       "      <th></th>\n",
       "      <th>Postal Code</th>\n",
       "      <th>Latitude</th>\n",
       "      <th>Longitude</th>\n",
       "    </tr>\n",
       "  </thead>\n",
       "  <tbody>\n",
       "    <tr>\n",
       "      <th>0</th>\n",
       "      <td>M1B</td>\n",
       "      <td>43.806686</td>\n",
       "      <td>-79.194353</td>\n",
       "    </tr>\n",
       "    <tr>\n",
       "      <th>1</th>\n",
       "      <td>M1C</td>\n",
       "      <td>43.784535</td>\n",
       "      <td>-79.160497</td>\n",
       "    </tr>\n",
       "    <tr>\n",
       "      <th>2</th>\n",
       "      <td>M1E</td>\n",
       "      <td>43.763573</td>\n",
       "      <td>-79.188711</td>\n",
       "    </tr>\n",
       "    <tr>\n",
       "      <th>3</th>\n",
       "      <td>M1G</td>\n",
       "      <td>43.770992</td>\n",
       "      <td>-79.216917</td>\n",
       "    </tr>\n",
       "    <tr>\n",
       "      <th>4</th>\n",
       "      <td>M1H</td>\n",
       "      <td>43.773136</td>\n",
       "      <td>-79.239476</td>\n",
       "    </tr>\n",
       "  </tbody>\n",
       "</table>\n",
       "</div>"
      ],
      "text/plain": [
       "  Postal Code   Latitude  Longitude\n",
       "0         M1B  43.806686 -79.194353\n",
       "1         M1C  43.784535 -79.160497\n",
       "2         M1E  43.763573 -79.188711\n",
       "3         M1G  43.770992 -79.216917\n",
       "4         M1H  43.773136 -79.239476"
      ]
     },
     "execution_count": 101,
     "metadata": {},
     "output_type": "execute_result"
    }
   ],
   "source": [
    "csv_zip.head()"
   ]
  },
  {
   "cell_type": "code",
   "execution_count": 102,
   "metadata": {},
   "outputs": [
    {
     "data": {
      "text/html": [
       "<div>\n",
       "<style scoped>\n",
       "    .dataframe tbody tr th:only-of-type {\n",
       "        vertical-align: middle;\n",
       "    }\n",
       "\n",
       "    .dataframe tbody tr th {\n",
       "        vertical-align: top;\n",
       "    }\n",
       "\n",
       "    .dataframe thead th {\n",
       "        text-align: right;\n",
       "    }\n",
       "</style>\n",
       "<table border=\"1\" class=\"dataframe\">\n",
       "  <thead>\n",
       "    <tr style=\"text-align: right;\">\n",
       "      <th></th>\n",
       "      <th>Postcode</th>\n",
       "      <th>Latitude</th>\n",
       "      <th>Longitude</th>\n",
       "    </tr>\n",
       "  </thead>\n",
       "  <tbody>\n",
       "    <tr>\n",
       "      <th>0</th>\n",
       "      <td>M1B</td>\n",
       "      <td>43.806686</td>\n",
       "      <td>-79.194353</td>\n",
       "    </tr>\n",
       "    <tr>\n",
       "      <th>1</th>\n",
       "      <td>M1C</td>\n",
       "      <td>43.784535</td>\n",
       "      <td>-79.160497</td>\n",
       "    </tr>\n",
       "    <tr>\n",
       "      <th>2</th>\n",
       "      <td>M1E</td>\n",
       "      <td>43.763573</td>\n",
       "      <td>-79.188711</td>\n",
       "    </tr>\n",
       "    <tr>\n",
       "      <th>3</th>\n",
       "      <td>M1G</td>\n",
       "      <td>43.770992</td>\n",
       "      <td>-79.216917</td>\n",
       "    </tr>\n",
       "    <tr>\n",
       "      <th>4</th>\n",
       "      <td>M1H</td>\n",
       "      <td>43.773136</td>\n",
       "      <td>-79.239476</td>\n",
       "    </tr>\n",
       "  </tbody>\n",
       "</table>\n",
       "</div>"
      ],
      "text/plain": [
       "  Postcode   Latitude  Longitude\n",
       "0      M1B  43.806686 -79.194353\n",
       "1      M1C  43.784535 -79.160497\n",
       "2      M1E  43.763573 -79.188711\n",
       "3      M1G  43.770992 -79.216917\n",
       "4      M1H  43.773136 -79.239476"
      ]
     },
     "execution_count": 102,
     "metadata": {},
     "output_type": "execute_result"
    }
   ],
   "source": [
    "csv_zip.rename(columns={'Postal Code' : 'Postcode'},inplace=True)\n",
    "csv_zip.head()"
   ]
  },
  {
   "cell_type": "code",
   "execution_count": 103,
   "metadata": {},
   "outputs": [],
   "source": [
    "df2_zip=df2.merge(csv_zip, on=['Postcode'],how=\"left\")"
   ]
  },
  {
   "cell_type": "code",
   "execution_count": 104,
   "metadata": {},
   "outputs": [
    {
     "data": {
      "text/html": [
       "<div>\n",
       "<style scoped>\n",
       "    .dataframe tbody tr th:only-of-type {\n",
       "        vertical-align: middle;\n",
       "    }\n",
       "\n",
       "    .dataframe tbody tr th {\n",
       "        vertical-align: top;\n",
       "    }\n",
       "\n",
       "    .dataframe thead th {\n",
       "        text-align: right;\n",
       "    }\n",
       "</style>\n",
       "<table border=\"1\" class=\"dataframe\">\n",
       "  <thead>\n",
       "    <tr style=\"text-align: right;\">\n",
       "      <th></th>\n",
       "      <th>Postcode</th>\n",
       "      <th>Borough</th>\n",
       "      <th>Neighbourhood</th>\n",
       "      <th>Latitude</th>\n",
       "      <th>Longitude</th>\n",
       "    </tr>\n",
       "  </thead>\n",
       "  <tbody>\n",
       "    <tr>\n",
       "      <th>0</th>\n",
       "      <td>M1B</td>\n",
       "      <td>Scarborough</td>\n",
       "      <td>Rouge,Malvern</td>\n",
       "      <td>43.806686</td>\n",
       "      <td>-79.194353</td>\n",
       "    </tr>\n",
       "    <tr>\n",
       "      <th>1</th>\n",
       "      <td>M1C</td>\n",
       "      <td>Scarborough</td>\n",
       "      <td>Highland Creek,Rouge Hill,Port Union</td>\n",
       "      <td>43.784535</td>\n",
       "      <td>-79.160497</td>\n",
       "    </tr>\n",
       "    <tr>\n",
       "      <th>2</th>\n",
       "      <td>M1E</td>\n",
       "      <td>Scarborough</td>\n",
       "      <td>Guildwood,Morningside,West Hill</td>\n",
       "      <td>43.763573</td>\n",
       "      <td>-79.188711</td>\n",
       "    </tr>\n",
       "    <tr>\n",
       "      <th>3</th>\n",
       "      <td>M1G</td>\n",
       "      <td>Scarborough</td>\n",
       "      <td>Woburn</td>\n",
       "      <td>43.770992</td>\n",
       "      <td>-79.216917</td>\n",
       "    </tr>\n",
       "    <tr>\n",
       "      <th>4</th>\n",
       "      <td>M1H</td>\n",
       "      <td>Scarborough</td>\n",
       "      <td>Cedarbrae</td>\n",
       "      <td>43.773136</td>\n",
       "      <td>-79.239476</td>\n",
       "    </tr>\n",
       "  </tbody>\n",
       "</table>\n",
       "</div>"
      ],
      "text/plain": [
       "  Postcode      Borough                         Neighbourhood   Latitude  \\\n",
       "0      M1B  Scarborough                         Rouge,Malvern  43.806686   \n",
       "1      M1C  Scarborough  Highland Creek,Rouge Hill,Port Union  43.784535   \n",
       "2      M1E  Scarborough       Guildwood,Morningside,West Hill  43.763573   \n",
       "3      M1G  Scarborough                                Woburn  43.770992   \n",
       "4      M1H  Scarborough                             Cedarbrae  43.773136   \n",
       "\n",
       "   Longitude  \n",
       "0 -79.194353  \n",
       "1 -79.160497  \n",
       "2 -79.188711  \n",
       "3 -79.216917  \n",
       "4 -79.239476  "
      ]
     },
     "execution_count": 104,
     "metadata": {},
     "output_type": "execute_result"
    }
   ],
   "source": [
    "df2_zip.head()"
   ]
  },
  {
   "cell_type": "code",
   "execution_count": 105,
   "metadata": {},
   "outputs": [
    {
     "name": "stdout",
     "output_type": "stream",
     "text": [
      "Collecting package metadata (repodata.json): ...working... done\n",
      "Solving environment: ...working... done\n",
      "\n",
      "# All requested packages already installed.\n",
      "\n",
      "Collecting package metadata (repodata.json): ...working... done\n",
      "Solving environment: ...working... done\n",
      "\n",
      "# All requested packages already installed.\n",
      "\n",
      "Folium installed\n",
      "Libraries imported.\n"
     ]
    }
   ],
   "source": [
    "!conda install -c conda-forge geopy --yes \n",
    "from geopy.geocoders import Nominatim # module to convert an address into latitude and longitude values\n",
    "import requests # library to handle requests\n",
    "import pandas as pd # library for data analsysis\n",
    "import numpy as np # library to handle data in a vectorized manner\n",
    "import random # library for random number generation\n",
    "\n",
    "# libraries for displaying images\n",
    "from IPython.display import Image \n",
    "from IPython.core.display import HTML \n",
    "    \n",
    "# tranforming json file into a pandas dataframe library\n",
    "from pandas.io.json import json_normalize\n",
    "\n",
    "!conda install -c conda-forge folium=0.5.0 --yes\n",
    "import folium # plotting library\n",
    "\n",
    "print('Folium installed')\n",
    "print('Libraries imported.')"
   ]
  },
  {
   "cell_type": "code",
   "execution_count": 106,
   "metadata": {},
   "outputs": [],
   "source": [
    "CLIENT_ID = 'VBSBYNY2VBFL0HR4KT0ACIIXSHLZDSFT3HIRAWSW5WO4OXBW' # your Foursquare ID\n",
    "CLIENT_SECRET = 'UGRKTBG241NH0K2ERHHCY3S1I3T3W1YOANUYBQW5ANU13WQH' # your Foursquare Secret\n",
    "VERSION = '20180604'\n",
    "LIMIT = 30"
   ]
  },
  {
   "cell_type": "code",
   "execution_count": 107,
   "metadata": {},
   "outputs": [],
   "source": [
    "df_Toronto = df2_zip[df2_zip['Borough'].str.contains('Toronto')]\n",
    "#df_Toronto"
   ]
  },
  {
   "cell_type": "code",
   "execution_count": 108,
   "metadata": {},
   "outputs": [
    {
     "name": "stdout",
     "output_type": "stream",
     "text": [
      "The geograpical coordinate of Toronto are 43.653963, -79.387207.\n"
     ]
    }
   ],
   "source": [
    "geolocator = Nominatim(user_agent=\"my-application\")\n",
    "location = geolocator.geocode('Toronto, ON')\n",
    "latitude = location.latitude\n",
    "longitude = location.longitude\n",
    "print('The geograpical coordinate of Toronto are {}, {}.'.format(latitude, longitude))"
   ]
  },
  {
   "cell_type": "markdown",
   "metadata": {},
   "source": [
    "# Q3. Explore and cluster the neighborhoods in Toronto.\n",
    "add enough Markdown cells to explain what you decided to do and to report any observations you make.\n",
    "generate maps to visualize your neighborhoods and how they cluster together."
   ]
  },
  {
   "cell_type": "code",
   "execution_count": 109,
   "metadata": {},
   "outputs": [
    {
     "data": {
      "text/html": [
       "<div style=\"width:100%;\"><div style=\"position:relative;width:100%;height:0;padding-bottom:60%;\"><iframe src=\"about:blank\" style=\"position:absolute;width:100%;height:100%;left:0;top:0;border:none !important;\" data-html=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 onload=\"this.contentDocument.open();this.contentDocument.write(atob(this.getAttribute('data-html')));this.contentDocument.close();\" allowfullscreen webkitallowfullscreen mozallowfullscreen></iframe></div></div>"
      ],
      "text/plain": [
       "<folium.folium.Map at 0xa3bbf60>"
      ]
     },
     "execution_count": 109,
     "metadata": {},
     "output_type": "execute_result"
    }
   ],
   "source": [
    "map_toronto = folium.Map(location=[latitude, longitude], zoom_start=12)\n",
    "\n",
    "# add markers to the map\n",
    "markers_colors = []\n",
    "\n",
    "# add markers to map\n",
    "for lat, lng, Borough, Postcode in zip(df_Toronto['Latitude'], df_Toronto['Longitude'], df_Toronto['Borough'],df_Toronto['Postcode']):\n",
    "    label = Borough + ' (' + Postcode + ')'\n",
    "    label = folium.Popup(label, parse_html=True)\n",
    "    folium.CircleMarker(\n",
    "        [lat, lng],\n",
    "        radius=8,\n",
    "        popup=label,\n",
    "        color='red',\n",
    "        fill=True,\n",
    "        fill_color='#3186cc',\n",
    "        fill_opacity=0.7,\n",
    "        parse_html=False).add_to(map_toronto)  \n",
    "\n",
    "map_toronto"
   ]
  }
 ],
 "metadata": {
  "kernelspec": {
   "display_name": "Python 3",
   "language": "python",
   "name": "python3"
  },
  "language_info": {
   "codemirror_mode": {
    "name": "ipython",
    "version": 3
   },
   "file_extension": ".py",
   "mimetype": "text/x-python",
   "name": "python",
   "nbconvert_exporter": "python",
   "pygments_lexer": "ipython3",
   "version": "3.7.1"
  }
 },
 "nbformat": 4,
 "nbformat_minor": 2
}
